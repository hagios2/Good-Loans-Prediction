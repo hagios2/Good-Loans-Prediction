{
 "cells": [
  {
   "cell_type": "code",
   "execution_count": 5,
   "metadata": {},
   "outputs": [],
   "source": [
    "import numpy as np\n",
    "import pandas as pd\n",
    "import matplotlib.pyplot as plt"
   ]
  },
  {
   "cell_type": "code",
   "execution_count": 7,
   "metadata": {},
   "outputs": [
    {
     "data": {
      "text/html": [
       "<div>\n",
       "<style scoped>\n",
       "    .dataframe tbody tr th:only-of-type {\n",
       "        vertical-align: middle;\n",
       "    }\n",
       "\n",
       "    .dataframe tbody tr th {\n",
       "        vertical-align: top;\n",
       "    }\n",
       "\n",
       "    .dataframe thead th {\n",
       "        text-align: right;\n",
       "    }\n",
       "</style>\n",
       "<table border=\"1\" class=\"dataframe\">\n",
       "  <thead>\n",
       "    <tr style=\"text-align: right;\">\n",
       "      <th></th>\n",
       "      <th>int_rate</th>\n",
       "      <th>installment</th>\n",
       "      <th>open_acc</th>\n",
       "      <th>revol_bal</th>\n",
       "      <th>revol_util</th>\n",
       "      <th>total_acc</th>\n",
       "      <th>bad_loans</th>\n",
       "      <th>grade_num</th>\n",
       "    </tr>\n",
       "  </thead>\n",
       "  <tbody>\n",
       "    <tr>\n",
       "      <th>0</th>\n",
       "      <td>10.65</td>\n",
       "      <td>162.87</td>\n",
       "      <td>3</td>\n",
       "      <td>13648</td>\n",
       "      <td>83.7</td>\n",
       "      <td>9</td>\n",
       "      <td>0</td>\n",
       "      <td>5</td>\n",
       "    </tr>\n",
       "    <tr>\n",
       "      <th>1</th>\n",
       "      <td>15.27</td>\n",
       "      <td>59.83</td>\n",
       "      <td>3</td>\n",
       "      <td>1687</td>\n",
       "      <td>9.4</td>\n",
       "      <td>4</td>\n",
       "      <td>1</td>\n",
       "      <td>4</td>\n",
       "    </tr>\n",
       "    <tr>\n",
       "      <th>2</th>\n",
       "      <td>15.96</td>\n",
       "      <td>84.33</td>\n",
       "      <td>2</td>\n",
       "      <td>2956</td>\n",
       "      <td>98.5</td>\n",
       "      <td>10</td>\n",
       "      <td>0</td>\n",
       "      <td>4</td>\n",
       "    </tr>\n",
       "    <tr>\n",
       "      <th>3</th>\n",
       "      <td>13.49</td>\n",
       "      <td>339.31</td>\n",
       "      <td>10</td>\n",
       "      <td>5598</td>\n",
       "      <td>21.0</td>\n",
       "      <td>37</td>\n",
       "      <td>0</td>\n",
       "      <td>4</td>\n",
       "    </tr>\n",
       "    <tr>\n",
       "      <th>4</th>\n",
       "      <td>7.90</td>\n",
       "      <td>156.46</td>\n",
       "      <td>9</td>\n",
       "      <td>7963</td>\n",
       "      <td>28.3</td>\n",
       "      <td>12</td>\n",
       "      <td>0</td>\n",
       "      <td>6</td>\n",
       "    </tr>\n",
       "  </tbody>\n",
       "</table>\n",
       "</div>"
      ],
      "text/plain": [
       "   int_rate  installment  open_acc  revol_bal  revol_util  total_acc  \\\n",
       "0     10.65       162.87         3      13648        83.7          9   \n",
       "1     15.27        59.83         3       1687         9.4          4   \n",
       "2     15.96        84.33         2       2956        98.5         10   \n",
       "3     13.49       339.31        10       5598        21.0         37   \n",
       "4      7.90       156.46         9       7963        28.3         12   \n",
       "\n",
       "   bad_loans  grade_num  \n",
       "0          0          5  \n",
       "1          1          4  \n",
       "2          0          4  \n",
       "3          0          4  \n",
       "4          0          6  "
      ]
     },
     "execution_count": 7,
     "metadata": {},
     "output_type": "execute_result"
    }
   ],
   "source": [
    "loans = pd.read_csv('lending_club_data01.csv')\n",
    "loans.head()"
   ]
  },
  {
   "cell_type": "code",
   "execution_count": 9,
   "metadata": {},
   "outputs": [
    {
     "data": {
      "text/html": [
       "<div>\n",
       "<style scoped>\n",
       "    .dataframe tbody tr th:only-of-type {\n",
       "        vertical-align: middle;\n",
       "    }\n",
       "\n",
       "    .dataframe tbody tr th {\n",
       "        vertical-align: top;\n",
       "    }\n",
       "\n",
       "    .dataframe thead th {\n",
       "        text-align: right;\n",
       "    }\n",
       "</style>\n",
       "<table border=\"1\" class=\"dataframe\">\n",
       "  <thead>\n",
       "    <tr style=\"text-align: right;\">\n",
       "      <th></th>\n",
       "      <th>int_rate</th>\n",
       "      <th>installment</th>\n",
       "      <th>open_acc</th>\n",
       "      <th>revol_bal</th>\n",
       "      <th>revol_util</th>\n",
       "      <th>total_acc</th>\n",
       "      <th>bad_loans</th>\n",
       "      <th>grade_num</th>\n",
       "    </tr>\n",
       "  </thead>\n",
       "  <tbody>\n",
       "    <tr>\n",
       "      <th>1463</th>\n",
       "      <td>6.62</td>\n",
       "      <td>377.66</td>\n",
       "      <td>11</td>\n",
       "      <td>10825</td>\n",
       "      <td>16.1</td>\n",
       "      <td>25</td>\n",
       "      <td>0</td>\n",
       "      <td>6</td>\n",
       "    </tr>\n",
       "    <tr>\n",
       "      <th>1464</th>\n",
       "      <td>18.64</td>\n",
       "      <td>360.41</td>\n",
       "      <td>2</td>\n",
       "      <td>564</td>\n",
       "      <td>70.5</td>\n",
       "      <td>19</td>\n",
       "      <td>0</td>\n",
       "      <td>2</td>\n",
       "    </tr>\n",
       "    <tr>\n",
       "      <th>1465</th>\n",
       "      <td>16.29</td>\n",
       "      <td>494.21</td>\n",
       "      <td>15</td>\n",
       "      <td>24536</td>\n",
       "      <td>71.7</td>\n",
       "      <td>29</td>\n",
       "      <td>0</td>\n",
       "      <td>3</td>\n",
       "    </tr>\n",
       "    <tr>\n",
       "      <th>1466</th>\n",
       "      <td>7.90</td>\n",
       "      <td>500.65</td>\n",
       "      <td>4</td>\n",
       "      <td>404</td>\n",
       "      <td>31.1</td>\n",
       "      <td>12</td>\n",
       "      <td>0</td>\n",
       "      <td>6</td>\n",
       "    </tr>\n",
       "    <tr>\n",
       "      <th>1467</th>\n",
       "      <td>15.27</td>\n",
       "      <td>208.79</td>\n",
       "      <td>6</td>\n",
       "      <td>760</td>\n",
       "      <td>69.1</td>\n",
       "      <td>19</td>\n",
       "      <td>0</td>\n",
       "      <td>4</td>\n",
       "    </tr>\n",
       "  </tbody>\n",
       "</table>\n",
       "</div>"
      ],
      "text/plain": [
       "      int_rate  installment  open_acc  revol_bal  revol_util  total_acc  \\\n",
       "1463      6.62       377.66        11      10825        16.1         25   \n",
       "1464     18.64       360.41         2        564        70.5         19   \n",
       "1465     16.29       494.21        15      24536        71.7         29   \n",
       "1466      7.90       500.65         4        404        31.1         12   \n",
       "1467     15.27       208.79         6        760        69.1         19   \n",
       "\n",
       "      bad_loans  grade_num  \n",
       "1463          0          6  \n",
       "1464          0          2  \n",
       "1465          0          3  \n",
       "1466          0          6  \n",
       "1467          0          4  "
      ]
     },
     "execution_count": 9,
     "metadata": {},
     "output_type": "execute_result"
    }
   ],
   "source": [
    "loans.tail()"
   ]
  },
  {
   "cell_type": "code",
   "execution_count": 10,
   "metadata": {},
   "outputs": [
    {
     "data": {
      "text/plain": [
       "<bound method NDFrame.describe of       int_rate  installment  open_acc  revol_bal  revol_util  total_acc  \\\n",
       "0        10.65       162.87         3      13648        83.7          9   \n",
       "1        15.27        59.83         3       1687         9.4          4   \n",
       "2        15.96        84.33         2       2956        98.5         10   \n",
       "3        13.49       339.31        10       5598        21.0         37   \n",
       "4         7.90       156.46         9       7963        28.3         12   \n",
       "5        18.64       109.43         4       8221        87.5          4   \n",
       "6        21.28       152.39        11       5210        32.6         13   \n",
       "7        12.69       121.45         2       9279        36.5          3   \n",
       "8        14.65       153.45        14       4032        20.6         23   \n",
       "9        12.69       402.54        12      23336        67.1         34   \n",
       "10       13.49       305.38         4      10452        91.7          9   \n",
       "11        9.91        96.68        11       7323        43.1         11   \n",
       "12       10.65       325.74        14      11997        55.5         29   \n",
       "13       16.29        35.31        11       6524        81.5         23   \n",
       "14       15.27       347.98        14      24043        70.2         28   \n",
       "15        6.03       109.57        20      22836        16.0         42   \n",
       "16        6.03       280.01         8       7314        23.1         28   \n",
       "17       12.42       701.73         7      32135        90.3         38   \n",
       "18       11.71       330.76         8      10056        82.4         21   \n",
       "19       11.71       330.76         6      17800        91.8         17   \n",
       "20       11.71       198.46         7       5963        29.7          7   \n",
       "21        9.91       483.38         8      13707        93.9         31   \n",
       "22       14.27       514.64         7       5872        57.6         11   \n",
       "23       16.77       123.65        14       4345        59.5         22   \n",
       "24       11.71       132.31        12       6110        37.7         44   \n",
       "25       11.71       281.15         8       6441        59.1         12   \n",
       "26        7.51       136.11         6      11210        86.9         12   \n",
       "27        7.90       995.82        12      23151        27.4         26   \n",
       "28        8.90       158.77         8       2224        29.3         16   \n",
       "29       15.96       245.97         6       6113        60.5          6   \n",
       "...        ...          ...       ...        ...         ...        ...   \n",
       "1438      6.62       290.15        12       5943        18.6         22   \n",
       "1439      6.03       243.49         9       1124         3.0         16   \n",
       "1440     15.96       196.77        20       7099        23.6         35   \n",
       "1441      7.90       938.71        11      79761         4.8         39   \n",
       "1442     20.89       626.21        15      35813        81.6         31   \n",
       "1443     14.65       219.55        10       3219        22.0         14   \n",
       "1444     14.27       351.13        10       3470        23.4         14   \n",
       "1445     11.71       200.94         5      11429        82.4         12   \n",
       "1446     14.27       137.24        23      17561        63.6         43   \n",
       "1447     15.27       151.37         7       2740        77.6          9   \n",
       "1448     15.96       267.27         5        763         2.6         32   \n",
       "1449      8.90       214.87         7       9075        44.3         25   \n",
       "1450     14.27       308.79         6       8093        49.0         30   \n",
       "1451     17.27       249.98        11      18081        75.7         17   \n",
       "1452     11.71       661.52        10      12711        84.2         18   \n",
       "1453      8.90       317.54         7      11833        38.5         28   \n",
       "1454     12.69       335.45        21        856         2.3         37   \n",
       "1455     12.42       430.23        10      11690        57.3         30   \n",
       "1456      6.03       121.75         6       4339        24.1         12   \n",
       "1457     11.71        33.08         9      16890        60.8         14   \n",
       "1458     13.49       118.76        17      22059        83.1         40   \n",
       "1459     19.03       325.46        25       7016        39.4         36   \n",
       "1460     11.71        76.08         7       2166        36.7          8   \n",
       "1461     10.65       223.13         7       2173        58.7         14   \n",
       "1462      7.90       187.75        22       9050        22.3         44   \n",
       "1463      6.62       377.66        11      10825        16.1         25   \n",
       "1464     18.64       360.41         2        564        70.5         19   \n",
       "1465     16.29       494.21        15      24536        71.7         29   \n",
       "1466      7.90       500.65         4        404        31.1         12   \n",
       "1467     15.27       208.79         6        760        69.1         19   \n",
       "\n",
       "      bad_loans  grade_num  \n",
       "0             0          5  \n",
       "1             1          4  \n",
       "2             0          4  \n",
       "3             0          4  \n",
       "4             0          6  \n",
       "5             0          2  \n",
       "6             1          1  \n",
       "7             1          5  \n",
       "8             0          4  \n",
       "9             0          5  \n",
       "10            1          4  \n",
       "11            0          5  \n",
       "12            1          5  \n",
       "13            0          3  \n",
       "14            0          4  \n",
       "15            0          6  \n",
       "16            0          6  \n",
       "17            1          5  \n",
       "18            0          5  \n",
       "19            0          5  \n",
       "20            1          5  \n",
       "21            0          5  \n",
       "22            1          4  \n",
       "23            1          3  \n",
       "24            0          5  \n",
       "25            0          5  \n",
       "26            0          6  \n",
       "27            0          6  \n",
       "28            0          6  \n",
       "29            0          4  \n",
       "...         ...        ...  \n",
       "1438          0          6  \n",
       "1439          0          6  \n",
       "1440          0          4  \n",
       "1441          0          6  \n",
       "1442          0          1  \n",
       "1443          1          4  \n",
       "1444          0          4  \n",
       "1445          0          5  \n",
       "1446          0          4  \n",
       "1447          1          4  \n",
       "1448          0          4  \n",
       "1449          0          6  \n",
       "1450          0          4  \n",
       "1451          0          3  \n",
       "1452          1          5  \n",
       "1453          0          6  \n",
       "1454          0          5  \n",
       "1455          0          5  \n",
       "1456          0          6  \n",
       "1457          0          5  \n",
       "1458          0          4  \n",
       "1459          0          2  \n",
       "1460          0          5  \n",
       "1461          1          5  \n",
       "1462          0          6  \n",
       "1463          0          6  \n",
       "1464          0          2  \n",
       "1465          0          3  \n",
       "1466          0          6  \n",
       "1467          0          4  \n",
       "\n",
       "[1468 rows x 8 columns]>"
      ]
     },
     "execution_count": 10,
     "metadata": {},
     "output_type": "execute_result"
    }
   ],
   "source": [
    "loans.describe"
   ]
  },
  {
   "cell_type": "code",
   "execution_count": 11,
   "metadata": {},
   "outputs": [
    {
     "name": "stdout",
     "output_type": "stream",
     "text": [
      "<class 'pandas.core.frame.DataFrame'>\n",
      "RangeIndex: 1468 entries, 0 to 1467\n",
      "Data columns (total 8 columns):\n",
      "int_rate       1468 non-null float64\n",
      "installment    1468 non-null float64\n",
      "open_acc       1468 non-null int64\n",
      "revol_bal      1468 non-null int64\n",
      "revol_util     1468 non-null float64\n",
      "total_acc      1468 non-null int64\n",
      "bad_loans      1468 non-null int64\n",
      "grade_num      1468 non-null int64\n",
      "dtypes: float64(3), int64(5)\n",
      "memory usage: 91.8 KB\n"
     ]
    }
   ],
   "source": [
    "loans.info()"
   ]
  },
  {
   "cell_type": "code",
   "execution_count": null,
   "metadata": {},
   "outputs": [],
   "source": []
  },
  {
   "cell_type": "code",
   "execution_count": 13,
   "metadata": {},
   "outputs": [],
   "source": [
    "loans['good_loans'] = loans['bad_loans'].apply(lambda y: 'yes' if y==0 else 'no')"
   ]
  },
  {
   "cell_type": "code",
   "execution_count": 14,
   "metadata": {},
   "outputs": [
    {
     "data": {
      "text/html": [
       "<div>\n",
       "<style scoped>\n",
       "    .dataframe tbody tr th:only-of-type {\n",
       "        vertical-align: middle;\n",
       "    }\n",
       "\n",
       "    .dataframe tbody tr th {\n",
       "        vertical-align: top;\n",
       "    }\n",
       "\n",
       "    .dataframe thead th {\n",
       "        text-align: right;\n",
       "    }\n",
       "</style>\n",
       "<table border=\"1\" class=\"dataframe\">\n",
       "  <thead>\n",
       "    <tr style=\"text-align: right;\">\n",
       "      <th></th>\n",
       "      <th>int_rate</th>\n",
       "      <th>installment</th>\n",
       "      <th>open_acc</th>\n",
       "      <th>revol_bal</th>\n",
       "      <th>revol_util</th>\n",
       "      <th>total_acc</th>\n",
       "      <th>bad_loans</th>\n",
       "      <th>grade_num</th>\n",
       "      <th>good_loans</th>\n",
       "    </tr>\n",
       "  </thead>\n",
       "  <tbody>\n",
       "    <tr>\n",
       "      <th>0</th>\n",
       "      <td>10.65</td>\n",
       "      <td>162.87</td>\n",
       "      <td>3</td>\n",
       "      <td>13648</td>\n",
       "      <td>83.7</td>\n",
       "      <td>9</td>\n",
       "      <td>0</td>\n",
       "      <td>5</td>\n",
       "      <td>yes</td>\n",
       "    </tr>\n",
       "    <tr>\n",
       "      <th>1</th>\n",
       "      <td>15.27</td>\n",
       "      <td>59.83</td>\n",
       "      <td>3</td>\n",
       "      <td>1687</td>\n",
       "      <td>9.4</td>\n",
       "      <td>4</td>\n",
       "      <td>1</td>\n",
       "      <td>4</td>\n",
       "      <td>no</td>\n",
       "    </tr>\n",
       "    <tr>\n",
       "      <th>2</th>\n",
       "      <td>15.96</td>\n",
       "      <td>84.33</td>\n",
       "      <td>2</td>\n",
       "      <td>2956</td>\n",
       "      <td>98.5</td>\n",
       "      <td>10</td>\n",
       "      <td>0</td>\n",
       "      <td>4</td>\n",
       "      <td>yes</td>\n",
       "    </tr>\n",
       "    <tr>\n",
       "      <th>3</th>\n",
       "      <td>13.49</td>\n",
       "      <td>339.31</td>\n",
       "      <td>10</td>\n",
       "      <td>5598</td>\n",
       "      <td>21.0</td>\n",
       "      <td>37</td>\n",
       "      <td>0</td>\n",
       "      <td>4</td>\n",
       "      <td>yes</td>\n",
       "    </tr>\n",
       "    <tr>\n",
       "      <th>4</th>\n",
       "      <td>7.90</td>\n",
       "      <td>156.46</td>\n",
       "      <td>9</td>\n",
       "      <td>7963</td>\n",
       "      <td>28.3</td>\n",
       "      <td>12</td>\n",
       "      <td>0</td>\n",
       "      <td>6</td>\n",
       "      <td>yes</td>\n",
       "    </tr>\n",
       "  </tbody>\n",
       "</table>\n",
       "</div>"
      ],
      "text/plain": [
       "   int_rate  installment  open_acc  revol_bal  revol_util  total_acc  \\\n",
       "0     10.65       162.87         3      13648        83.7          9   \n",
       "1     15.27        59.83         3       1687         9.4          4   \n",
       "2     15.96        84.33         2       2956        98.5         10   \n",
       "3     13.49       339.31        10       5598        21.0         37   \n",
       "4      7.90       156.46         9       7963        28.3         12   \n",
       "\n",
       "   bad_loans  grade_num good_loans  \n",
       "0          0          5        yes  \n",
       "1          1          4         no  \n",
       "2          0          4        yes  \n",
       "3          0          4        yes  \n",
       "4          0          6        yes  "
      ]
     },
     "execution_count": 14,
     "metadata": {},
     "output_type": "execute_result"
    }
   ],
   "source": [
    "loans.head()"
   ]
  },
  {
   "cell_type": "code",
   "execution_count": 15,
   "metadata": {},
   "outputs": [
    {
     "name": "stdout",
     "output_type": "stream",
     "text": [
      "(1468, 7) (1468,)\n"
     ]
    }
   ],
   "source": [
    "X = loans.drop(['bad_loans', 'good_loans'], axis=1)\n",
    "y = loans['good_loans']\n",
    "\n",
    "print(X.shape, y.shape)"
   ]
  },
  {
   "cell_type": "code",
   "execution_count": 16,
   "metadata": {},
   "outputs": [
    {
     "name": "stderr",
     "output_type": "stream",
     "text": [
      "/home/oteng/anaconda3/lib/python3.6/site-packages/sklearn/cross_validation.py:41: DeprecationWarning: This module was deprecated in version 0.18 in favor of the model_selection module into which all the refactored classes and functions are moved. Also note that the interface of the new CV iterators are different from that of this module. This module will be removed in 0.20.\n",
      "  \"This module will be removed in 0.20.\", DeprecationWarning)\n"
     ]
    }
   ],
   "source": [
    "from sklearn.cross_validation import train_test_split"
   ]
  },
  {
   "cell_type": "code",
   "execution_count": 18,
   "metadata": {},
   "outputs": [],
   "source": [
    "from sklearn.tree import DecisionTreeClassifier"
   ]
  },
  {
   "cell_type": "code",
   "execution_count": 20,
   "metadata": {},
   "outputs": [],
   "source": [
    "X_train, X_test, y_train, y_test = train_test_split(X, y , test_size=0.3, random_state=124)"
   ]
  },
  {
   "cell_type": "code",
   "execution_count": 21,
   "metadata": {},
   "outputs": [
    {
     "name": "stdout",
     "output_type": "stream",
     "text": [
      "(1027, 7) (441, 7)\n"
     ]
    }
   ],
   "source": [
    "print(X_train.shape, X_test.shape)"
   ]
  },
  {
   "cell_type": "code",
   "execution_count": 22,
   "metadata": {},
   "outputs": [
    {
     "name": "stdout",
     "output_type": "stream",
     "text": [
      "(1027,) (441,)\n"
     ]
    }
   ],
   "source": [
    "print(y_train.shape, y_test.shape)"
   ]
  },
  {
   "cell_type": "code",
   "execution_count": 24,
   "metadata": {},
   "outputs": [],
   "source": [
    "model = DecisionTreeClassifier()\n"
   ]
  },
  {
   "cell_type": "code",
   "execution_count": 25,
   "metadata": {},
   "outputs": [
    {
     "data": {
      "text/plain": [
       "DecisionTreeClassifier(class_weight=None, criterion='gini', max_depth=None,\n",
       "            max_features=None, max_leaf_nodes=None,\n",
       "            min_impurity_decrease=0.0, min_impurity_split=None,\n",
       "            min_samples_leaf=1, min_samples_split=2,\n",
       "            min_weight_fraction_leaf=0.0, presort=False, random_state=None,\n",
       "            splitter='best')"
      ]
     },
     "execution_count": 25,
     "metadata": {},
     "output_type": "execute_result"
    }
   ],
   "source": [
    "model.fit(X_train, y_train)"
   ]
  },
  {
   "cell_type": "code",
   "execution_count": 31,
   "metadata": {},
   "outputs": [],
   "source": [
    "predicted_val = model.predict(X_test)"
   ]
  },
  {
   "cell_type": "code",
   "execution_count": 32,
   "metadata": {},
   "outputs": [],
   "source": [
    "from sklearn.metrics import classification_report, confusion_matrix"
   ]
  },
  {
   "cell_type": "code",
   "execution_count": 33,
   "metadata": {},
   "outputs": [
    {
     "name": "stdout",
     "output_type": "stream",
     "text": [
      "[[ 12  55]\n",
      " [ 57 317]]\n"
     ]
    }
   ],
   "source": [
    "print(confusion_matrix(y_test, predicted_val))"
   ]
  },
  {
   "cell_type": "code",
   "execution_count": 34,
   "metadata": {},
   "outputs": [
    {
     "name": "stdout",
     "output_type": "stream",
     "text": [
      "             precision    recall  f1-score   support\n",
      "\n",
      "         no       0.17      0.18      0.18        67\n",
      "        yes       0.85      0.85      0.85       374\n",
      "\n",
      "avg / total       0.75      0.75      0.75       441\n",
      "\n"
     ]
    }
   ],
   "source": [
    "print(classification_report(y_test, predicted_val))"
   ]
  },
  {
   "cell_type": "code",
   "execution_count": null,
   "metadata": {},
   "outputs": [],
   "source": []
  },
  {
   "cell_type": "code",
   "execution_count": 35,
   "metadata": {},
   "outputs": [],
   "source": [
    "from sklearn.ensemble import RandomForestClassifier "
   ]
  },
  {
   "cell_type": "code",
   "execution_count": 37,
   "metadata": {},
   "outputs": [
    {
     "data": {
      "text/plain": [
       "RandomForestClassifier(bootstrap=True, class_weight=None, criterion='gini',\n",
       "            max_depth=None, max_features='auto', max_leaf_nodes=None,\n",
       "            min_impurity_decrease=0.0, min_impurity_split=None,\n",
       "            min_samples_leaf=1, min_samples_split=2,\n",
       "            min_weight_fraction_leaf=0.0, n_estimators=150, n_jobs=1,\n",
       "            oob_score=False, random_state=None, verbose=0,\n",
       "            warm_start=False)"
      ]
     },
     "execution_count": 37,
     "metadata": {},
     "output_type": "execute_result"
    }
   ],
   "source": [
    "rf_model = RandomForestClassifier(n_estimators = 150) \n",
    "rf_model.fit(X_train, y_train)"
   ]
  },
  {
   "cell_type": "code",
   "execution_count": 39,
   "metadata": {},
   "outputs": [],
   "source": [
    "rf_predict = rf_model.predict(X_test)"
   ]
  },
  {
   "cell_type": "code",
   "execution_count": 40,
   "metadata": {},
   "outputs": [
    {
     "name": "stdout",
     "output_type": "stream",
     "text": [
      "             precision    recall  f1-score   support\n",
      "\n",
      "         no       0.37      0.10      0.16        67\n",
      "        yes       0.86      0.97      0.91       374\n",
      "\n",
      "avg / total       0.78      0.84      0.80       441\n",
      "\n"
     ]
    }
   ],
   "source": [
    "print(classification_report(y_test, rf_predict))"
   ]
  },
  {
   "cell_type": "code",
   "execution_count": 41,
   "metadata": {},
   "outputs": [
    {
     "name": "stdout",
     "output_type": "stream",
     "text": [
      "[[  7  60]\n",
      " [ 12 362]]\n"
     ]
    }
   ],
   "source": [
    "print(confusion_matrix(y_test, rf_predict))"
   ]
  },
  {
   "cell_type": "code",
   "execution_count": null,
   "metadata": {},
   "outputs": [],
   "source": []
  },
  {
   "cell_type": "code",
   "execution_count": null,
   "metadata": {},
   "outputs": [],
   "source": []
  },
  {
   "cell_type": "code",
   "execution_count": null,
   "metadata": {},
   "outputs": [],
   "source": []
  },
  {
   "cell_type": "code",
   "execution_count": null,
   "metadata": {},
   "outputs": [],
   "source": []
  },
  {
   "cell_type": "code",
   "execution_count": null,
   "metadata": {},
   "outputs": [],
   "source": []
  },
  {
   "cell_type": "code",
   "execution_count": null,
   "metadata": {},
   "outputs": [],
   "source": []
  }
 ],
 "metadata": {
  "kernelspec": {
   "display_name": "Python 3",
   "language": "python",
   "name": "python3"
  },
  "language_info": {
   "codemirror_mode": {
    "name": "ipython",
    "version": 3
   },
   "file_extension": ".py",
   "mimetype": "text/x-python",
   "name": "python",
   "nbconvert_exporter": "python",
   "pygments_lexer": "ipython3",
   "version": "3.7.4"
  }
 },
 "nbformat": 4,
 "nbformat_minor": 2
}
